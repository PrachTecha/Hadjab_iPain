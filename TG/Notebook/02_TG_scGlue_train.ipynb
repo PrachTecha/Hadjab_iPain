{
 "cells": [
  {
   "cell_type": "code",
   "execution_count": null,
   "metadata": {},
   "outputs": [],
   "source": [
    "import numpy as np\n",
    "import pandas as pd\n",
    "import scanpy as sc\n",
    "import muon as mu\n",
    "import networkx as nx\n",
    "import scvi\n",
    "import glob\n",
    "import scglue\n",
    "import os\n",
    "from scipy import sparse\n",
    "import matplotlib.pyplot as plt\n",
    "import seaborn as sns\n",
    "\n",
    "sc.settings.verbosity = 3\n",
    "sc.settings.n_jobs = 8\n",
    "scvi.train.Trainer(accelerator = 'mps')\n",
    "%config InlineBackend.figure_format='retina'"
   ]
  },
  {
   "attachments": {},
   "cell_type": "markdown",
   "metadata": {},
   "source": [
    "# scGlue model training"
   ]
  },
  {
   "cell_type": "code",
   "execution_count": null,
   "metadata": {},
   "outputs": [],
   "source": [
    "TG_rna = sc.read_h5ad(\"../TG_data/Results/TG_rna_pp.h5ad\")\n",
    "TG_atac = sc.read_h5ad(\"../TG_data/Results/TG_atac_pp.h5ad\")\n",
    "guidance = nx.read_graphml(\"../TG_data/Results/guidance.graphml.gz\")"
   ]
  },
  {
   "cell_type": "code",
   "execution_count": null,
   "metadata": {},
   "outputs": [],
   "source": [
    "scglue.models.configure_dataset(\n",
    "    TG_rna, \"NB\", use_highly_variable=True,\n",
    "    use_layer=\"counts\", use_rep=\"X_scANVI\", use_batch=\"Source\", use_cell_type='subtype'\n",
    ")"
   ]
  },
  {
   "cell_type": "code",
   "execution_count": null,
   "metadata": {},
   "outputs": [],
   "source": [
    "scglue.models.configure_dataset(\n",
    "    TG_atac, \"NB\", use_highly_variable=True,\n",
    "    use_rep=\"X_lsi\", use_cell_type='subtype'\n",
    ")"
   ]
  },
  {
   "cell_type": "code",
   "execution_count": null,
   "metadata": {},
   "outputs": [],
   "source": [
    "from itertools import chain\n",
    "guidance_hvf = guidance.subgraph(chain(\n",
    "    TG_rna.var.query(\"highly_variable\").index,\n",
    "    TG_atac.var.query(\"highly_variable\").index\n",
    ")).copy()"
   ]
  },
  {
   "cell_type": "code",
   "execution_count": null,
   "metadata": {},
   "outputs": [],
   "source": [
    "glue = scglue.models.fit_SCGLUE(\n",
    "    {\"rna\": TG_rna, \"atac\": TG_atac}, guidance_hvf,\n",
    "    fit_kws={\"directory\": \"glue\"}\n",
    ")\n",
    "glue.save(\"glue.dill\")"
   ]
  },
  {
   "cell_type": "code",
   "execution_count": null,
   "metadata": {},
   "outputs": [],
   "source": [
    "glue = scglue.models.load_model(\"../TG_data/Results/scglue_model/glue.dill\")"
   ]
  },
  {
   "cell_type": "code",
   "execution_count": null,
   "metadata": {},
   "outputs": [],
   "source": [
    "# # Get consistency scores and save to file for later use\n",
    "dx = scglue.models.integration_consistency(\n",
    "    glue, {\"rna\": TG_rna, \"atac\": TG_atac}, guidance_hvf\n",
    ")"
   ]
  },
  {
   "cell_type": "code",
   "execution_count": null,
   "metadata": {},
   "outputs": [],
   "source": [
    "# _ = sns.lineplot(x=\"n_meta\", y=\"consistency\", data=dx).axhline(y=0.05, c=\"darkred\", ls=\"--\")"
   ]
  },
  {
   "cell_type": "code",
   "execution_count": null,
   "metadata": {},
   "outputs": [],
   "source": [
    "# Get cell embeddings\n",
    "TG_rna.obsm[\"X_glue\"] = glue.encode_data(\"rna\", TG_rna)\n",
    "TG_atac.obsm[\"X_glue\"] = glue.encode_data(\"atac\", TG_atac)"
   ]
  },
  {
   "cell_type": "code",
   "execution_count": null,
   "metadata": {},
   "outputs": [],
   "source": [
    "TG_combined = sc.concat([TG_rna, TG_atac])"
   ]
  },
  {
   "cell_type": "code",
   "execution_count": null,
   "metadata": {},
   "outputs": [],
   "source": [
    "TG_combined = sc.read_h5ad(\"../TG_data/Results/TG_combined.h5ad\")"
   ]
  },
  {
   "cell_type": "code",
   "execution_count": null,
   "metadata": {},
   "outputs": [],
   "source": [
    "# Get feature embeddings\n",
    "feature_embeddings = glue.encode_graph(guidance_hvf)\n",
    "feature_embeddings = pd.DataFrame(feature_embeddings, index=glue.vertices)"
   ]
  },
  {
   "cell_type": "code",
   "execution_count": null,
   "metadata": {},
   "outputs": [],
   "source": [
    "TG_mdata = mu.MuData({\"rna\": TG_rna, \"atac\": TG_atac})"
   ]
  },
  {
   "cell_type": "code",
   "execution_count": null,
   "metadata": {},
   "outputs": [],
   "source": [
    "TG_mdata.obsm[\"X_glue\"] = TG_combined[TG_mdata.obs_names].obsm[\"X_glue\"].copy()"
   ]
  },
  {
   "cell_type": "code",
   "execution_count": null,
   "metadata": {},
   "outputs": [],
   "source": [
    "TG_mdata['rna'].varm[\"X_glue\"] = feature_embeddings.reindex(TG_rna.var_names).to_numpy()\n",
    "TG_mdata['atac'].varm[\"X_glue\"] = feature_embeddings.reindex(TG_atac.var_names).to_numpy()"
   ]
  },
  {
   "cell_type": "code",
   "execution_count": null,
   "metadata": {},
   "outputs": [],
   "source": [
    "TG_mdata.obs[['Tissue', 'Conditions', 'Source', 'Technology', 'Strains', 'Sex', 'Time', 'subtype', 'scANVI_pred', 'balancing_weight']] = TG_combined.obs[['Tissue', 'Conditions', 'Source', 'Technology', 'Strains', 'Sex', 'Time', 'subtype', 'scANVI_pred', 'balancing_weight']]"
   ]
  },
  {
   "cell_type": "code",
   "execution_count": null,
   "metadata": {},
   "outputs": [],
   "source": [
    "TG_mdata.obs['modality'] = 'expression'\n",
    "TG_mdata.obs.modality[TG_mdata.obs.Source == 'Renthal_ATAC'] = 'peak'"
   ]
  },
  {
   "cell_type": "code",
   "execution_count": null,
   "metadata": {},
   "outputs": [],
   "source": [
    "TG_mdata.obs[\"MetaType\"] = TG_mdata.obs.scANVI_pred.astype(str).copy()\n",
    "TG_mdata.obs.MetaType = TG_mdata.obs.MetaType.replace(['NF1','NF2','NF3','NP','PEP1','PEP2','SST','cLTMR1','p_cLTMR2'], 'Neurons')\n",
    "TG_mdata.obs[\"NociceptiveType\"] = TG_mdata.obs.scANVI_pred.astype(str).copy()\n",
    "TG_mdata.obs.NociceptiveType = TG_mdata.obs.NociceptiveType.replace(['NP','PEP1','PEP2','SST','cLTMR1','p_cLTMR2'], 'Nociceptors')"
   ]
  },
  {
   "cell_type": "code",
   "execution_count": null,
   "metadata": {},
   "outputs": [],
   "source": [
    "sc.pp.neighbors(TG_mdata, use_rep=\"X_glue\", metric=\"cosine\")\n",
    "sc.tl.umap(TG_mdata)"
   ]
  },
  {
   "cell_type": "code",
   "execution_count": null,
   "metadata": {},
   "outputs": [],
   "source": [
    "TG_mdata.obs.Technology = TG_mdata.obs.Technology.astype(str).copy()\n",
    "TG_mdata.obs.Technology[TG_mdata.obs.Source == 'Renthal_ATAC'] = '10x_ATAC'\n",
    "TG_mdata.obs.Technology[TG_mdata.obs.Source == 'Renthal_RNA'] = '10x_RNA'"
   ]
  },
  {
   "cell_type": "code",
   "execution_count": null,
   "metadata": {},
   "outputs": [],
   "source": [
    "sc.set_figure_params(dpi=100, figsize=(5,5), frameon=False)\n",
    "sc.pl.umap(TG_mdata, color=[\"scANVI_pred\"], size=3)\n",
    "sc.pl.umap(TG_mdata, color=[\"MetaType\"], size=3)\n",
    "sc.pl.umap(TG_mdata, color=[\"NociceptiveType\"], size=3)\n",
    "sc.pl.umap(TG_mdata, color=[\"modality\"], size=3)\n",
    "sc.pl.umap(TG_mdata, color=[\"Source\"], size=3)\n",
    "sc.pl.umap(TG_mdata, color=[\"Technology\"], size=3)"
   ]
  },
  {
   "cell_type": "code",
   "execution_count": null,
   "metadata": {},
   "outputs": [],
   "source": [
    "TG_mdata.obs['PainState'] = TG_mdata.obs.Conditions.map(lambda x: 'noPain' if x in ['Naive', 'PBS'] else 'Pain')\n",
    "TG_mdata.obs['PainState'] = TG_mdata.obs['PainState'].astype('category').cat.reorder_categories(['noPain', 'Pain'])"
   ]
  },
  {
   "cell_type": "code",
   "execution_count": null,
   "metadata": {},
   "outputs": [],
   "source": [
    "TG_mdata.write(\"../TG_data/Results/TG_mdata.h5mu\", compression=\"gzip\")"
   ]
  },
  {
   "cell_type": "code",
   "execution_count": null,
   "metadata": {},
   "outputs": [],
   "source": [
    "nx.write_graphml(guidance_hvf, \"../TG_data/Results/guidance_hvf.graphml.gz\")"
   ]
  }
 ],
 "metadata": {
  "kernelspec": {
   "display_name": "injury_atlas",
   "language": "python",
   "name": "python3"
  },
  "language_info": {
   "codemirror_mode": {
    "name": "ipython",
    "version": 3
   },
   "file_extension": ".py",
   "mimetype": "text/x-python",
   "name": "python",
   "nbconvert_exporter": "python",
   "pygments_lexer": "ipython3",
   "version": "3.10.10"
  },
  "orig_nbformat": 4
 },
 "nbformat": 4,
 "nbformat_minor": 2
}
